{
 "cells": [
  {
   "cell_type": "code",
   "execution_count": 2,
   "metadata": {
    "collapsed": true
   },
   "outputs": [],
   "source": [
    "import gensim\n",
    "import lib.utilities as utility\n",
    "import numpy as np\n",
    "import math\n",
    "\n",
    "def computation_vec_for_sentence(s1_tokens, model):\n",
    "  vector = np.zeros((300,))\n",
    "  for token in s1_tokens:\n",
    "    if(token in model.vocab):\n",
    "      vector += model[token]\n",
    "  return vector\n",
    "\n",
    "def length(vector):\n",
    "  return np.power(np.sum(np.power(vector, 2)),0.5)\n",
    "\n",
    "def cossim_dense(v1,v2):\n",
    "    # v1 and v2 are numpy arrays\n",
    "    # Compute the cosine simlarity between them.\n",
    "    # Should return a number between -1 and 1\n",
    "    l1 = length(v1)\n",
    "    l2 = length(v2)\n",
    "    print l1,l2\n",
    "    if(l1==0):\n",
    "      print \"LENGTH IS ZERO L1\"\n",
    "      return 0\n",
    "    elif(l2==0):\n",
    "      print \"LENGTH IS ZERO L2\"\n",
    "      return 0\n",
    "    return math.exp(math.log(np.sum(np.multiply(v1,v2))) - math.log(l1) -math.log(l2))\n",
    "\n",
    "def w2vec_model():\n",
    "  print \"LOADING WORD2VEC MODEL\"\n",
    "  model = gensim.models.Word2Vec.load_word2vec_format('/Users/danielsampetethiyagu/Downloads/GoogleNews-vectors-negative300.bin', binary=True)\n",
    "  print \"LOADED WORD2VEC MODEL\"\n",
    "  return model\n",
    "\n",
    "def w2vec_for_pair_of_docs(documents, model):\n",
    "  documents_tokens = utility.get_dict_vectors_of_documents(documents, justTokens=True)\n",
    "  S1 = []\n",
    "  S2 = []\n",
    "  for i in range(len(documents_tokens)):\n",
    "    s1_tokens, s2_tokens = documents_tokens[i]\n",
    "    s1_vector = computation_vec_for_sentence(s1_tokens, model)\n",
    "    s2_vector = computation_vec_for_sentence(s2_tokens, model)\n",
    "    S1.append(s1_vector)\n",
    "    S2.append(s2_vector)\n",
    "  return S1, S2\n",
    "\n",
    "def w2vec_similarity_measure_unsupervised(documents, answers):\n",
    "  model = w2vec_model()\n",
    "  documents_tokens = utility.get_dict_vectors_of_documents(documents, justTokens=True)\n",
    "  predicted_answers = []\n",
    "  for i in range(len(documents_tokens)):\n",
    "    s1_tokens, s2_tokens = documents_tokens[i]\n",
    "    s1_vector = computation_vec_for_sentence(s1_tokens, model)\n",
    "    s2_vector = computation_vec_for_sentence(s2_tokens, model)\n",
    "    predicted_answers.append(5*cossim_dense(s1_vector, s2_vector))\n",
    "  print \"Error in Estimation of Word2Vec similarity: \"+str(utility.evaluate(predicted_answers,answers))"
   ]
  },
  {
   "cell_type": "code",
   "execution_count": 3,
   "metadata": {
    "collapsed": false
   },
   "outputs": [
    {
     "name": "stdout",
     "output_type": "stream",
     "text": [
      "LOADING WORD2VEC MODEL\n",
      "LOADED WORD2VEC MODEL\n"
     ]
    }
   ],
   "source": [
    "model = w2vec_model()"
   ]
  },
  {
   "cell_type": "code",
   "execution_count": 22,
   "metadata": {
    "collapsed": false
   },
   "outputs": [],
   "source": [
    "documents = [(\"Its an orange\",\"Its orange\")]\n",
    "documents = [\"He is a bachelor\", \"He is a married man\",\"Its an orange\",\"Its orange\"]\n",
    "answers = [4.5,3.9]"
   ]
  },
  {
   "cell_type": "code",
   "execution_count": 26,
   "metadata": {
    "collapsed": false
   },
   "outputs": [
    {
     "name": "stdout",
     "output_type": "stream",
     "text": [
      "5.23943626181 5.96940125717\n",
      "3.53335898174\n",
      "5.23943626181 5.96940125717\n",
      "Error in Estimation of Word2Vec similarity: 1.33328203652\n",
      "4.67408109911 3.88993302869\n",
      "4.4201534546\n",
      "4.67408109911 3.88993302869\n",
      "Error in Estimation of Word2Vec similarity: 0.743397236431\n"
     ]
    }
   ],
   "source": [
    "documents_tokens = utility.get_dict_vectors_of_documents(documents, justTokens=True)\n",
    "predicted_answers = []\n",
    "for i in range(len(documents_tokens)):\n",
    "    s1_tokens, s2_tokens = documents_tokens[i]\n",
    "    s1_vector = computation_vec_for_sentence(s1_tokens, model)\n",
    "    s2_vector = computation_vec_for_sentence(s2_tokens, model)\n",
    "    print 5*cossim_dense(s1_vector, s2_vector)\n",
    "    predicted_answers.append(5*cossim_dense(s1_vector, s2_vector))\n",
    "    print \"Error in Estimation of Word2Vec similarity: \"+str(utility.evaluate(predicted_answers,answers))"
   ]
  },
  {
   "cell_type": "code",
   "execution_count": 11,
   "metadata": {
    "collapsed": false
   },
   "outputs": [
    {
     "data": {
      "text/plain": [
       "[]"
      ]
     },
     "execution_count": 11,
     "metadata": {},
     "output_type": "execute_result"
    }
   ],
   "source": [
    "predicted_answers"
   ]
  }
 ],
 "metadata": {
  "kernelspec": {
   "display_name": "Python [Root]",
   "language": "python",
   "name": "Python [Root]"
  },
  "language_info": {
   "codemirror_mode": {
    "name": "ipython",
    "version": 2
   },
   "file_extension": ".py",
   "mimetype": "text/x-python",
   "name": "python",
   "nbconvert_exporter": "python",
   "pygments_lexer": "ipython2",
   "version": "2.7.12"
  }
 },
 "nbformat": 4,
 "nbformat_minor": 0
}
